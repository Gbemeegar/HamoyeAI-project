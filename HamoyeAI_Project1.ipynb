{
 "cells": [
  {
   "cell_type": "code",
   "execution_count": 6,
   "id": "ead4a077",
   "metadata": {},
   "outputs": [],
   "source": [
    "import pandas as pd\n",
    "import numpy as np\n"
   ]
  },
  {
   "cell_type": "code",
   "execution_count": 7,
   "id": "668d1b0f",
   "metadata": {},
   "outputs": [
    {
     "data": {
      "text/html": [
       "<div>\n",
       "<style scoped>\n",
       "    .dataframe tbody tr th:only-of-type {\n",
       "        vertical-align: middle;\n",
       "    }\n",
       "\n",
       "    .dataframe tbody tr th {\n",
       "        vertical-align: top;\n",
       "    }\n",
       "\n",
       "    .dataframe thead th {\n",
       "        text-align: right;\n",
       "    }\n",
       "</style>\n",
       "<table border=\"1\" class=\"dataframe\">\n",
       "  <thead>\n",
       "    <tr style=\"text-align: right;\">\n",
       "      <th></th>\n",
       "      <th>Area Code</th>\n",
       "      <th>Area</th>\n",
       "      <th>Item Code</th>\n",
       "      <th>Item</th>\n",
       "      <th>Element Code</th>\n",
       "      <th>Element</th>\n",
       "      <th>Unit</th>\n",
       "      <th>Y2014</th>\n",
       "      <th>Y2015</th>\n",
       "      <th>Y2016</th>\n",
       "      <th>Y2017</th>\n",
       "      <th>Y2018</th>\n",
       "    </tr>\n",
       "  </thead>\n",
       "  <tbody>\n",
       "    <tr>\n",
       "      <th>0</th>\n",
       "      <td>4</td>\n",
       "      <td>Algeria</td>\n",
       "      <td>2501</td>\n",
       "      <td>Population</td>\n",
       "      <td>511</td>\n",
       "      <td>Total Population - Both sexes</td>\n",
       "      <td>1000 persons</td>\n",
       "      <td>38924.00</td>\n",
       "      <td>39728.00</td>\n",
       "      <td>40551.00</td>\n",
       "      <td>41389.00</td>\n",
       "      <td>42228.00</td>\n",
       "    </tr>\n",
       "    <tr>\n",
       "      <th>1</th>\n",
       "      <td>4</td>\n",
       "      <td>Algeria</td>\n",
       "      <td>2501</td>\n",
       "      <td>Population</td>\n",
       "      <td>5301</td>\n",
       "      <td>Domestic supply quantity</td>\n",
       "      <td>1000 tonnes</td>\n",
       "      <td>0.00</td>\n",
       "      <td>0.00</td>\n",
       "      <td>0.00</td>\n",
       "      <td>0.00</td>\n",
       "      <td>0.00</td>\n",
       "    </tr>\n",
       "    <tr>\n",
       "      <th>2</th>\n",
       "      <td>4</td>\n",
       "      <td>Algeria</td>\n",
       "      <td>2901</td>\n",
       "      <td>Grand Total</td>\n",
       "      <td>664</td>\n",
       "      <td>Food supply (kcal/capita/day)</td>\n",
       "      <td>kcal/capita/day</td>\n",
       "      <td>3377.00</td>\n",
       "      <td>3379.00</td>\n",
       "      <td>3372.00</td>\n",
       "      <td>3341.00</td>\n",
       "      <td>3322.00</td>\n",
       "    </tr>\n",
       "    <tr>\n",
       "      <th>3</th>\n",
       "      <td>4</td>\n",
       "      <td>Algeria</td>\n",
       "      <td>2901</td>\n",
       "      <td>Grand Total</td>\n",
       "      <td>674</td>\n",
       "      <td>Protein supply quantity (g/capita/day)</td>\n",
       "      <td>g/capita/day</td>\n",
       "      <td>94.90</td>\n",
       "      <td>94.35</td>\n",
       "      <td>94.72</td>\n",
       "      <td>92.82</td>\n",
       "      <td>91.83</td>\n",
       "    </tr>\n",
       "    <tr>\n",
       "      <th>4</th>\n",
       "      <td>4</td>\n",
       "      <td>Algeria</td>\n",
       "      <td>2901</td>\n",
       "      <td>Grand Total</td>\n",
       "      <td>684</td>\n",
       "      <td>Fat supply quantity (g/capita/day)</td>\n",
       "      <td>g/capita/day</td>\n",
       "      <td>80.06</td>\n",
       "      <td>79.36</td>\n",
       "      <td>77.40</td>\n",
       "      <td>80.19</td>\n",
       "      <td>77.28</td>\n",
       "    </tr>\n",
       "  </tbody>\n",
       "</table>\n",
       "</div>"
      ],
      "text/plain": [
       "   Area Code     Area  Item Code         Item  Element Code  \\\n",
       "0          4  Algeria       2501   Population           511   \n",
       "1          4  Algeria       2501   Population          5301   \n",
       "2          4  Algeria       2901  Grand Total           664   \n",
       "3          4  Algeria       2901  Grand Total           674   \n",
       "4          4  Algeria       2901  Grand Total           684   \n",
       "\n",
       "                                  Element             Unit     Y2014  \\\n",
       "0           Total Population - Both sexes     1000 persons  38924.00   \n",
       "1                Domestic supply quantity      1000 tonnes      0.00   \n",
       "2           Food supply (kcal/capita/day)  kcal/capita/day   3377.00   \n",
       "3  Protein supply quantity (g/capita/day)     g/capita/day     94.90   \n",
       "4      Fat supply quantity (g/capita/day)     g/capita/day     80.06   \n",
       "\n",
       "      Y2015     Y2016     Y2017     Y2018  \n",
       "0  39728.00  40551.00  41389.00  42228.00  \n",
       "1      0.00      0.00      0.00      0.00  \n",
       "2   3379.00   3372.00   3341.00   3322.00  \n",
       "3     94.35     94.72     92.82     91.83  \n",
       "4     79.36     77.40     80.19     77.28  "
      ]
     },
     "execution_count": 7,
     "metadata": {},
     "output_type": "execute_result"
    }
   ],
   "source": [
    "data = pd.read_csv(r\"C:\\Users\\gbeme\\Desktop\\Works\\Food_Bal_Sheet\\FoodBalanceSheets_E_Africa_NOFLAG.csv\", encoding='latin-1')\n",
    "data.head()"
   ]
  },
  {
   "cell_type": "code",
   "execution_count": 8,
   "id": "7c0e186a",
   "metadata": {},
   "outputs": [],
   "source": [
    "data.columns\n",
    "years=['Y2014', 'Y2015', 'Y2016', 'Y2017', 'Y2018']"
   ]
  },
  {
   "cell_type": "code",
   "execution_count": 20,
   "id": "4b47c16a",
   "metadata": {},
   "outputs": [
    {
     "data": {
      "text/plain": [
       "Y2014    209460.54\n",
       "Y2017    269617.53\n",
       "Name: Animal fats, dtype: float64"
      ]
     },
     "execution_count": 20,
     "metadata": {},
     "output_type": "execute_result"
    }
   ],
   "source": [
    "#11. What is the total sum of Animal Fat produced in 2014 and 2017 respectively?\n",
    "anifat_sum1417 = data.groupby('Item')[['Y2014', 'Y2017']].sum().loc['Animal fats']\n",
    "anifat_sum1417"
   ]
  },
  {
   "cell_type": "code",
   "execution_count": 21,
   "id": "53d70f26",
   "metadata": {},
   "outputs": [
    {
     "data": {
      "text/html": [
       "<div>\n",
       "<style scoped>\n",
       "    .dataframe tbody tr th:only-of-type {\n",
       "        vertical-align: middle;\n",
       "    }\n",
       "\n",
       "    .dataframe tbody tr th {\n",
       "        vertical-align: top;\n",
       "    }\n",
       "\n",
       "    .dataframe thead th {\n",
       "        text-align: right;\n",
       "    }\n",
       "</style>\n",
       "<table border=\"1\" class=\"dataframe\">\n",
       "  <thead>\n",
       "    <tr style=\"text-align: right;\">\n",
       "      <th></th>\n",
       "      <th>Y2015</th>\n",
       "    </tr>\n",
       "  </thead>\n",
       "  <tbody>\n",
       "    <tr>\n",
       "      <th>mean</th>\n",
       "      <td>135.236</td>\n",
       "    </tr>\n",
       "    <tr>\n",
       "      <th>std</th>\n",
       "      <td>1603.404</td>\n",
       "    </tr>\n",
       "  </tbody>\n",
       "</table>\n",
       "</div>"
      ],
      "text/plain": [
       "         Y2015\n",
       "mean   135.236\n",
       "std   1603.404"
      ]
     },
     "execution_count": 21,
     "metadata": {},
     "output_type": "execute_result"
    }
   ],
   "source": [
    "#12. What is the mean and standard deviation across the whole dataset for the year 2015 to 3 decimal places?\n",
    "mean_std15 = round(data.describe()[['Y2015']], 3).loc[['mean','std']]\n",
    "mean_std15\n",
    "#or\n",
    "#mean15 = round(data['Y2015'].mean(),3)\n",
    "#std15 = round(data['Y2015'].std(),3)\n",
    "#print(mean15, std15, sep=', ')"
   ]
  },
  {
   "cell_type": "code",
   "execution_count": null,
   "id": "ea1ac3da",
   "metadata": {},
   "outputs": [],
   "source": []
  },
  {
   "cell_type": "code",
   "execution_count": 11,
   "id": "8084e96b",
   "metadata": {},
   "outputs": [
    {
     "name": "stdout",
     "output_type": "stream",
     "text": [
      "1535\n",
      "2.52\n",
      "The total number of missing data in 2016 is 1535\n",
      "2.52% of the data in 2016 was missing\n"
     ]
    }
   ],
   "source": [
    "#13. What is the total number and percentage of missing data in 2016 to 2 decimal places?\n",
    "total_missing16=data['Y2016'].isna().sum()\n",
    "percent_miss16=round((data['Y2016'].isna().sum()/len(data['Y2016']))*100, 2)\n",
    "print(total_missing16)\n",
    "print(percent_miss16)\n",
    "print(f\"The total number of missing data in 2016 is {total_missing16}\")\n",
    "print(f\"{percent_miss16}% of the data in 2016 was missing\")"
   ]
  },
  {
   "cell_type": "code",
   "execution_count": 27,
   "id": "1a58bdb1",
   "metadata": {},
   "outputs": [
    {
     "data": {
      "text/plain": [
       "Y2014    0.024457\n",
       "Y2018    0.024279\n",
       "Y2017    0.024254\n",
       "Y2015    0.023889\n",
       "Y2016    0.023444\n",
       "dtype: float64"
      ]
     },
     "execution_count": 27,
     "metadata": {},
     "output_type": "execute_result"
    }
   ],
   "source": [
    "# 14. Which year had the highest correlation with ‘Element Code’? \n",
    "eleyear_corr = data[years].corrwith(data['Element Code']).sort_values(ascending=False)\n",
    "eleyear_corr"
   ]
  },
  {
   "cell_type": "markdown",
   "id": "f0bcf849",
   "metadata": {},
   "source": [
    "Year 2014 has the highest correlation with element code (0.02445)"
   ]
  },
  {
   "cell_type": "code",
   "execution_count": 13,
   "id": "c8709adb",
   "metadata": {},
   "outputs": [
    {
     "data": {
      "text/plain": [
       "Y2017    294559.09\n",
       "Y2018    287997.09\n",
       "Y2016    286582.78\n",
       "Y2014    274144.48\n",
       "Y2015    267018.46\n",
       "Name: Import Quantity, dtype: float64"
      ]
     },
     "execution_count": 13,
     "metadata": {},
     "output_type": "execute_result"
    }
   ],
   "source": [
    "# 15. What year has the highest sum of Import Quantity?\n",
    "total_import=data.groupby('Element').sum().loc['Import Quantity']\n",
    "total_import[years].sort_values(ascending=False)"
   ]
  },
  {
   "cell_type": "markdown",
   "id": "1c8e357a",
   "metadata": {},
   "source": [
    "2017 is the year with the highest sum of Import Quantity"
   ]
  },
  {
   "cell_type": "code",
   "execution_count": 14,
   "id": "11044622",
   "metadata": {},
   "outputs": [
    {
     "data": {
      "text/plain": [
       "Y2014    1931287.75\n",
       "Name: Production, dtype: float64"
      ]
     },
     "execution_count": 14,
     "metadata": {},
     "output_type": "execute_result"
    }
   ],
   "source": [
    "#16. What is the total number of the sum of Production in 2014?\n",
    "prod_sum14 = data.groupby('Element').sum()[['Y2014']].loc['Production']\n",
    "prod_sum14"
   ]
  },
  {
   "cell_type": "markdown",
   "id": "dd52a12d",
   "metadata": {},
   "source": [
    "The total production for 2014 is 1.93 million"
   ]
  },
  {
   "cell_type": "code",
   "execution_count": 15,
   "id": "1a4a2eb9",
   "metadata": {},
   "outputs": [
    {
     "data": {
      "text/plain": [
       "Element\n",
       "Domestic supply quantity    2161192.10\n",
       "Production                  2075072.89\n",
       "Food                        1303841.28\n",
       "Name: Y2018, dtype: float64"
      ]
     },
     "execution_count": 15,
     "metadata": {},
     "output_type": "execute_result"
    }
   ],
   "source": [
    "#17. Which of these elements had the highest sum in 2018?\n",
    "tot_element18 = data.groupby('Element').sum()['Y2018']\n",
    "\n",
    "tot_element18.sort_values(ascending=False)[:3]"
   ]
  },
  {
   "cell_type": "markdown",
   "id": "494fdc10",
   "metadata": {},
   "source": [
    "The Domestic supply quantity has the highest sum in 2018\n",
    "\n"
   ]
  },
  {
   "cell_type": "code",
   "execution_count": 16,
   "id": "4bb8b1dc",
   "metadata": {},
   "outputs": [
    {
     "data": {
      "text/plain": [
       "Element\n",
       "Tourist consumption                          90.00\n",
       "Fat supply quantity (g/capita/day)        10258.69\n",
       "Protein supply quantity (g/capita/day)    11833.56\n",
       "Name: Y2018, dtype: float64"
      ]
     },
     "execution_count": 16,
     "metadata": {},
     "output_type": "execute_result"
    }
   ],
   "source": [
    "#18. Which of these elements had the 3rd lowest sum in 2018?\n",
    "tot_element18.sort_values()[:3]"
   ]
  },
  {
   "cell_type": "markdown",
   "id": "b901aeee",
   "metadata": {},
   "source": [
    "The protein supply has the 3rd lowest sum in 2018"
   ]
  },
  {
   "cell_type": "code",
   "execution_count": 17,
   "id": "755c1745",
   "metadata": {},
   "outputs": [
    {
     "data": {
      "text/plain": [
       "Element\n",
       "Import Quantity    36238.29\n",
       "Name: Y2018, dtype: float64"
      ]
     },
     "execution_count": 17,
     "metadata": {},
     "output_type": "execute_result"
    }
   ],
   "source": [
    "#19. What is the total Import Quantity in Algeria in 2018?\n",
    "alg_data = data[data.Area=='Algeria']\n",
    "alg_data.groupby('Element').sum()['Y2018'].loc[['Import Quantity']]"
   ]
  },
  {
   "cell_type": "markdown",
   "id": "faf47c42",
   "metadata": {},
   "source": [
    "The total import quantity for Algeria in 2018 is 36238"
   ]
  },
  {
   "cell_type": "code",
   "execution_count": 28,
   "id": "6e4b10bf",
   "metadata": {},
   "outputs": [
    {
     "data": {
      "text/plain": [
       "49"
      ]
     },
     "execution_count": 28,
     "metadata": {},
     "output_type": "execute_result"
    }
   ],
   "source": [
    "#20.What is the total number of unique countries in the dataset?\n",
    "area_nunique = data['Area'].nunique()\n",
    "area_nunique"
   ]
  },
  {
   "cell_type": "markdown",
   "id": "78e03b78",
   "metadata": {},
   "source": [
    "There are 49 unique countries in the data set"
   ]
  }
 ],
 "metadata": {
  "kernelspec": {
   "display_name": "Python 3.10.4 64-bit",
   "language": "python",
   "name": "python3"
  },
  "language_info": {
   "codemirror_mode": {
    "name": "ipython",
    "version": 3
   },
   "file_extension": ".py",
   "mimetype": "text/x-python",
   "name": "python",
   "nbconvert_exporter": "python",
   "pygments_lexer": "ipython3",
   "version": "3.10.4"
  },
  "vscode": {
   "interpreter": {
    "hash": "7745a54041f4ffe543a4027fe15a292100c5f52ce410b4e8abeeec9571763b9b"
   }
  }
 },
 "nbformat": 4,
 "nbformat_minor": 5
}
